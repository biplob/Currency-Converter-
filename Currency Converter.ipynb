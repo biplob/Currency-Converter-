{
 "cells": [
  {
   "cell_type": "code",
   "execution_count": null,
   "id": "91241a4a",
   "metadata": {},
   "outputs": [],
   "source": [
    "# To install the tkinter and requests libary\n",
    "pip install tk\n",
    "pip install requests"
   ]
  },
  {
   "cell_type": "code",
   "execution_count": 40,
   "id": "90edea82",
   "metadata": {},
   "outputs": [],
   "source": [
    "# Import Libaries \n",
    "\n",
    "import requests\n",
    "from tkinter import *\n",
    "import tkinter as tk\n",
    "from tkinter import ttk"
   ]
  },
  {
   "cell_type": "markdown",
   "id": "0364abb9",
   "metadata": {},
   "source": [
    "# Create the CurrencyConverter class:"
   ]
  },
  {
   "cell_type": "code",
   "execution_count": 90,
   "id": "73b86390",
   "metadata": {},
   "outputs": [],
   "source": [
    "class RealTimeCurrencyConverter():\n",
    "    def __init__(self,url):\n",
    "            self.data = requests.get(url).json()\n",
    "            self.currencies = self.data['rates']\n",
    " \n",
    "    def convert(self, from_currency, to_currency, amount):\n",
    "        initial_amount = amount\n",
    "        if from_currency != 'USD' :\n",
    "            amount = amount / self.currencies[from_currency]\n",
    "  \n",
    "        # limiting the precision to 4 decimal places\n",
    "        amount = round(amount * self.currencies([to_currency], 4))\n",
    "        return amount"
   ]
  },
  {
   "cell_type": "code",
   "execution_count": 91,
   "id": "2050af31",
   "metadata": {},
   "outputs": [],
   "source": [
    "class App(tk.Tk):\n",
    " \n",
    "    def __init__(self, converter):\n",
    "        tk.Tk.__init__(self)\n",
    "        self.title = 'Currency Converter'\n",
    "        self.currency_converter = converter\n",
    " \n",
    "        #self.configure(background = 'blue')\n",
    "        self.geometry(\"530x200\")\n",
    "        \n",
    "        # Label\n",
    "        self.intro_label = Label(self, text = 'Own Real Time Currency Converter',  fg = 'black',bg='blue', relief = tk.RAISED, borderwidth = 3)\n",
    "        self.intro_label.config(font = ('Courier',15,'bold'))\n",
    " \n",
    "        self.date_label = Label(self, text = f\" Date : {self.currency_converter.data['date']}\", relief = tk.GROOVE, borderwidth = 5)\n",
    " \n",
    "        self.intro_label.place(x = 10 , y = 5)\n",
    "        self.date_label.place(x = 200, y= 50)\n",
    " \n",
    "        # Entry box\n",
    "        valid = (self.register(self.restrictNumberOnly), '%d', '%P')\n",
    "        self.amount_field = Entry(self,bd = 3, relief = tk.RIDGE, justify = tk.CENTER,validate='key', validatecommand=valid)\n",
    "        self.converted_amount_field_label = Label(self, text = '', fg = 'black', bg = 'white', relief = tk.RIDGE, justify = tk.CENTER, width = 17, borderwidth = 3)\n",
    " \n",
    "        # dropdown\n",
    "        self.from_currency_variable = StringVar(self)\n",
    "        self.from_currency_variable.set(\"BDT\") # default value\n",
    "        self.to_currency_variable = StringVar(self)\n",
    "        self.to_currency_variable.set(\"USD\") # default value\n",
    " \n",
    "        font = (\"Courier\", 12, \"bold\")\n",
    "        self.option_add('*TCombobox*Listbox.font', font)\n",
    "        self.from_currency_dropdown = ttk.Combobox(self, textvariable=self.from_currency_variable,values=list(self.currency_converter.currencies.keys()), font = font, state = 'readonly', width = 12, justify = tk.CENTER)\n",
    "        self.to_currency_dropdown = ttk.Combobox(self, textvariable=self.to_currency_variable,values=list(self.currency_converter.currencies.keys()), font = font, state = 'readonly', width = 12, justify = tk.CENTER)\n",
    " \n",
    "        # placing\n",
    "        self.from_currency_dropdown.place(x = 30, y= 120)\n",
    "        self.amount_field.place(x = 36, y = 150)\n",
    "        self.to_currency_dropdown.place(x = 340, y= 120)\n",
    "        #self.converted_amount_field.place(x = 346, y = 150)\n",
    "        self.converted_amount_field_label.place(x = 346, y = 150)\n",
    "        \n",
    "        # Convert button\n",
    "        self.convert_button = Button(self, text = \"Convert\", fg = \"black\", bg = \"green\", command = self.perform)\n",
    "        self.convert_button.config(font=('Courier', 10, 'bold'))\n",
    "        self.convert_button.place(x = 225, y = 135)\n",
    " \n",
    "    def perform(self):\n",
    "        amount = float(self.amount_field.get())\n",
    "        from_curr = self.from_currency_variable.get()\n",
    "        to_curr = self.to_currency_variable.get()\n",
    " \n",
    "        converted_amount = self.currency_converter.convert(from_curr,to_curr,amount)\n",
    "        converted_amount = round(converted_amount, 2)\n",
    " \n",
    "        self.converted_amount_field_label.config(text = str(converted_amount))\n",
    "    \n",
    "    def restrictNumberOnly(self, action, string):\n",
    "        regex = re.compile(r\"&#91;0-9,]*?(\\.)?&#91;0-9,]*$\")\n",
    "        result = regex.match(string)\n",
    "        return (string == \"\" or (string.count('.') &  1 and result is not None))\n",
    "     "
   ]
  },
  {
   "cell_type": "code",
   "execution_count": 92,
   "id": "3c5f18fc",
   "metadata": {},
   "outputs": [],
   "source": [
    "if __name__ == '__main__':\n",
    "    url = 'https://api.exchangerate-api.com/v4/latest/USD'\n",
    "    converter = RealTimeCurrencyConverter(url)\n",
    " \n",
    "    App(converter)\n",
    "    mainloop()"
   ]
  },
  {
   "cell_type": "code",
   "execution_count": null,
   "id": "76be0492",
   "metadata": {},
   "outputs": [],
   "source": []
  }
 ],
 "metadata": {
  "kernelspec": {
   "display_name": "Python 3 (ipykernel)",
   "language": "python",
   "name": "python3"
  },
  "language_info": {
   "codemirror_mode": {
    "name": "ipython",
    "version": 3
   },
   "file_extension": ".py",
   "mimetype": "text/x-python",
   "name": "python",
   "nbconvert_exporter": "python",
   "pygments_lexer": "ipython3",
   "version": "3.9.12"
  }
 },
 "nbformat": 4,
 "nbformat_minor": 5
}
